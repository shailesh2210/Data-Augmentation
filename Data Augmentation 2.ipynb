{
 "cells": [
  {
   "cell_type": "code",
   "execution_count": 1,
   "id": "3761e64b",
   "metadata": {},
   "outputs": [],
   "source": [
    "import keras"
   ]
  },
  {
   "cell_type": "code",
   "execution_count": 2,
   "id": "10517263",
   "metadata": {},
   "outputs": [],
   "source": [
    "from keras.preprocessing.image import ImageDataGenerator"
   ]
  },
  {
   "cell_type": "code",
   "execution_count": 5,
   "id": "f711c442",
   "metadata": {},
   "outputs": [],
   "source": [
    "from keras.utils import img_to_array , array_to_img , load_img"
   ]
  },
  {
   "cell_type": "code",
   "execution_count": 6,
   "id": "47f90a22",
   "metadata": {},
   "outputs": [],
   "source": [
    "data_gen = ImageDataGenerator(rotation_range=0.2 , horizontal_flip=True , vertical_flip=True , fill_mode=\"nearest\" , \n",
    "                              height_shift_range=0.2 , width_shift_range=0.3)"
   ]
  },
  {
   "cell_type": "code",
   "execution_count": 7,
   "id": "2c7429c7",
   "metadata": {},
   "outputs": [],
   "source": [
    "img = load_img(\"data/cat.4.jpg\")"
   ]
  },
  {
   "cell_type": "code",
   "execution_count": 8,
   "id": "da32c99e",
   "metadata": {},
   "outputs": [],
   "source": [
    "x = img_to_array(img)"
   ]
  },
  {
   "cell_type": "code",
   "execution_count": 11,
   "id": "3134c134",
   "metadata": {},
   "outputs": [],
   "source": [
    "x = x.reshape((1,)+ x.shape)"
   ]
  },
  {
   "cell_type": "code",
   "execution_count": 12,
   "id": "0c0f0e8c",
   "metadata": {},
   "outputs": [],
   "source": [
    "i = 0\n",
    "for batch in data_gen.flow(x ,batch_size=32 ,save_to_dir=\"new_data\", save_prefix=\"new_data\", save_format=\"jpeg\"):\n",
    "    i+=1\n",
    "    if i >30:\n",
    "        break"
   ]
  },
  {
   "cell_type": "code",
   "execution_count": null,
   "id": "41ba04a4",
   "metadata": {},
   "outputs": [],
   "source": []
  }
 ],
 "metadata": {
  "kernelspec": {
   "display_name": "Python 3",
   "language": "python",
   "name": "python3"
  },
  "language_info": {
   "codemirror_mode": {
    "name": "ipython",
    "version": 3
   },
   "file_extension": ".py",
   "mimetype": "text/x-python",
   "name": "python",
   "nbconvert_exporter": "python",
   "pygments_lexer": "ipython3",
   "version": "3.8.8"
  }
 },
 "nbformat": 4,
 "nbformat_minor": 5
}
