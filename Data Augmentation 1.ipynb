{
 "cells": [
  {
   "cell_type": "code",
   "execution_count": 1,
   "id": "43d88649",
   "metadata": {},
   "outputs": [],
   "source": [
    "import keras"
   ]
  },
  {
   "cell_type": "code",
   "execution_count": 3,
   "id": "620f2b8f",
   "metadata": {},
   "outputs": [],
   "source": [
    "from keras.preprocessing.image import ImageDataGenerator "
   ]
  },
  {
   "cell_type": "code",
   "execution_count": 4,
   "id": "79997199",
   "metadata": {},
   "outputs": [],
   "source": [
    "from keras.utils import array_to_img , img_to_array , load_img"
   ]
  },
  {
   "cell_type": "code",
   "execution_count": 7,
   "id": "2a6d9d40",
   "metadata": {},
   "outputs": [],
   "source": [
    "data = ImageDataGenerator(\n",
    "    rotation_range=40,\n",
    "    height_shift_range=0.2 ,\n",
    "horizontal_flip=True,\n",
    "fill_mode='nearest')"
   ]
  },
  {
   "cell_type": "code",
   "execution_count": 20,
   "id": "4f9c6374",
   "metadata": {},
   "outputs": [],
   "source": [
    "img = load_img(\"data/cat.3.jpg\")"
   ]
  },
  {
   "cell_type": "code",
   "execution_count": 23,
   "id": "ab164ba8",
   "metadata": {},
   "outputs": [],
   "source": [
    "x = img_to_array(img)\n",
    "x = x.reshape((1,)+ x.shape)"
   ]
  },
  {
   "cell_type": "code",
   "execution_count": 24,
   "id": "389cf5b2",
   "metadata": {},
   "outputs": [],
   "source": [
    "i = 0 \n",
    "for batch in data.flow(\n",
    "x , batch_size = 1 , save_to_dir=\"new_data\" , save_prefix=\"cat\" , save_format=\"jpeg\"\n",
    "):\n",
    "    i +=1 \n",
    "    if i > 20:\n",
    "        break"
   ]
  },
  {
   "cell_type": "code",
   "execution_count": null,
   "id": "86f7c14f",
   "metadata": {},
   "outputs": [],
   "source": []
  }
 ],
 "metadata": {
  "kernelspec": {
   "display_name": "Python 3",
   "language": "python",
   "name": "python3"
  },
  "language_info": {
   "codemirror_mode": {
    "name": "ipython",
    "version": 3
   },
   "file_extension": ".py",
   "mimetype": "text/x-python",
   "name": "python",
   "nbconvert_exporter": "python",
   "pygments_lexer": "ipython3",
   "version": "3.8.8"
  }
 },
 "nbformat": 4,
 "nbformat_minor": 5
}
